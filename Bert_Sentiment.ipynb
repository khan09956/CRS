{
  "cells": [
    {
      "cell_type": "code",
      "execution_count": 2,
      "metadata": {
        "id": "qNLfRV8Pgaq5"
      },
      "outputs": [
        {
          "name": "stderr",
          "output_type": "stream",
          "text": [
            "C:\\Users\\khans\\AppData\\Local\\Packages\\PythonSoftwareFoundation.Python.3.10_qbz5n2kfra8p0\\LocalCache\\local-packages\\Python310\\site-packages\\tqdm\\auto.py:21: TqdmWarning: IProgress not found. Please update jupyter and ipywidgets. See https://ipywidgets.readthedocs.io/en/stable/user_install.html\n",
            "  from .autonotebook import tqdm as notebook_tqdm\n"
          ]
        }
      ],
      "source": [
        "# Data manipulation\n",
        "import pandas as pd\n",
        "# Numerical operations\n",
        "import numpy as np\n",
        "# Data splitting and cross-validation\n",
        "from sklearn.model_selection import train_test_split, StratifiedKFold\n",
        "# Categorical label encoding\n",
        "from sklearn.preprocessing import LabelEncoder\n",
        "# Classification metrics\n",
        "from sklearn.metrics import accuracy_score, precision_score, recall_score, f1_score\n",
        "# Deep learning framework\n",
        "import torch\n",
        "import torch.nn as nn\n",
        "import torch.optim as optim\n",
        "from torch.utils.data import DataLoader, TensorDataset\n",
        "# Word2Vec word embeddings\n",
        "from gensim.models import Word2Vec\n",
        "# Random number generation\n",
        "import random\n",
        "# Natural Language Toolkit\n",
        "import nltk\n",
        "from nltk.tokenize import word_tokenize\n",
        "from nltk.corpus import stopwords\n",
        "from nltk.corpus import wordnet\n",
        "from nltk.stem import WordNetLemmatizer\n",
        "# Data visualization\n",
        "import matplotlib.pyplot as plt\n",
        "# Progress bar\n",
        "from tqdm import tqdm\n",
        "# Regular expressions\n",
        "import re\n",
        "# Pre-trained transformer models\n",
        "from transformers import BertTokenizer, BertForSequenceClassification, AdamW\n",
        "\n",
        "\n",
        "\n"
      ]
    },
    {
      "cell_type": "code",
      "execution_count": 3,
      "metadata": {
        "colab": {
          "base_uri": "https://localhost:8080/"
        },
        "id": "fzd56Tdcf2C9",
        "outputId": "f170a336-b631-437e-c7ef-bf9c706196fd"
      },
      "outputs": [
        {
          "name": "stdout",
          "output_type": "stream",
          "text": [
            "CSV file 'train.csv' created successfully.\n"
          ]
        }
      ],
      "source": [
        "import pandas as pd\n",
        "\n",
        "# Function to map labels\n",
        "def map_labels(label):\n",
        "    if label == '__label__1':\n",
        "        return '0'\n",
        "    elif label == '__label__2':\n",
        "        return '1'\n",
        "    else:\n",
        "        return label\n",
        "\n",
        "# Read the first 50,000 lines from train.ft.txt\n",
        "num_lines_to_read = 100000\n",
        "lines_read = 0\n",
        "data = []\n",
        "\n",
        "with open('train.ft.txt', 'r', encoding='utf-8') as file:\n",
        "    for line in file:\n",
        "        if lines_read >= num_lines_to_read:\n",
        "            break\n",
        "        line = line.strip()\n",
        "        if line.startswith('__label__'):\n",
        "            label, text = line.split(' ', 1)\n",
        "            label = map_labels(label)\n",
        "            data.append([label, text])\n",
        "            lines_read += 1\n",
        "\n",
        "# Create a DataFrame from the data\n",
        "df = pd.DataFrame(data, columns=['Label', 'Text'])\n",
        "\n",
        "# Save the DataFrame to a CSV file\n",
        "df.to_csv('train.csv', index=False)\n",
        "\n",
        "print(\"CSV file 'train.csv' created successfully.\")\n"
      ]
    },
    {
      "cell_type": "code",
      "execution_count": 4,
      "metadata": {
        "colab": {
          "base_uri": "https://localhost:8080/",
          "height": 424
        },
        "id": "WNE395nDf5y9",
        "outputId": "21f93807-15a9-49ab-c18b-eed28ee7e8f5"
      },
      "outputs": [
        {
          "data": {
            "text/html": [
              "<div>\n",
              "<style scoped>\n",
              "    .dataframe tbody tr th:only-of-type {\n",
              "        vertical-align: middle;\n",
              "    }\n",
              "\n",
              "    .dataframe tbody tr th {\n",
              "        vertical-align: top;\n",
              "    }\n",
              "\n",
              "    .dataframe thead th {\n",
              "        text-align: right;\n",
              "    }\n",
              "</style>\n",
              "<table border=\"1\" class=\"dataframe\">\n",
              "  <thead>\n",
              "    <tr style=\"text-align: right;\">\n",
              "      <th></th>\n",
              "      <th>Label</th>\n",
              "      <th>Text</th>\n",
              "    </tr>\n",
              "  </thead>\n",
              "  <tbody>\n",
              "    <tr>\n",
              "      <th>0</th>\n",
              "      <td>1</td>\n",
              "      <td>Stuning even for the non-gamer: This sound tra...</td>\n",
              "    </tr>\n",
              "    <tr>\n",
              "      <th>1</th>\n",
              "      <td>1</td>\n",
              "      <td>The best soundtrack ever to anything.: I'm rea...</td>\n",
              "    </tr>\n",
              "    <tr>\n",
              "      <th>2</th>\n",
              "      <td>1</td>\n",
              "      <td>Amazing!: This soundtrack is my favorite music...</td>\n",
              "    </tr>\n",
              "    <tr>\n",
              "      <th>3</th>\n",
              "      <td>1</td>\n",
              "      <td>Excellent Soundtrack: I truly like this soundt...</td>\n",
              "    </tr>\n",
              "    <tr>\n",
              "      <th>4</th>\n",
              "      <td>1</td>\n",
              "      <td>Remember, Pull Your Jaw Off The Floor After He...</td>\n",
              "    </tr>\n",
              "    <tr>\n",
              "      <th>...</th>\n",
              "      <td>...</td>\n",
              "      <td>...</td>\n",
              "    </tr>\n",
              "    <tr>\n",
              "      <th>99995</th>\n",
              "      <td>1</td>\n",
              "      <td>Good: very good excelent fantastic wonderful m...</td>\n",
              "    </tr>\n",
              "    <tr>\n",
              "      <th>99996</th>\n",
              "      <td>0</td>\n",
              "      <td>THE REAL SUPERMAN: THESE ARE THE REAL ADVENTUR...</td>\n",
              "    </tr>\n",
              "    <tr>\n",
              "      <th>99997</th>\n",
              "      <td>0</td>\n",
              "      <td>It gets one star because zero was not an optio...</td>\n",
              "    </tr>\n",
              "    <tr>\n",
              "      <th>99998</th>\n",
              "      <td>0</td>\n",
              "      <td>Don't Spend Your Money: I think I now know mor...</td>\n",
              "    </tr>\n",
              "    <tr>\n",
              "      <th>99999</th>\n",
              "      <td>0</td>\n",
              "      <td>Enough already: This is what you call \"overkil...</td>\n",
              "    </tr>\n",
              "  </tbody>\n",
              "</table>\n",
              "<p>100000 rows × 2 columns</p>\n",
              "</div>"
            ],
            "text/plain": [
              "      Label                                               Text\n",
              "0         1  Stuning even for the non-gamer: This sound tra...\n",
              "1         1  The best soundtrack ever to anything.: I'm rea...\n",
              "2         1  Amazing!: This soundtrack is my favorite music...\n",
              "3         1  Excellent Soundtrack: I truly like this soundt...\n",
              "4         1  Remember, Pull Your Jaw Off The Floor After He...\n",
              "...     ...                                                ...\n",
              "99995     1  Good: very good excelent fantastic wonderful m...\n",
              "99996     0  THE REAL SUPERMAN: THESE ARE THE REAL ADVENTUR...\n",
              "99997     0  It gets one star because zero was not an optio...\n",
              "99998     0  Don't Spend Your Money: I think I now know mor...\n",
              "99999     0  Enough already: This is what you call \"overkil...\n",
              "\n",
              "[100000 rows x 2 columns]"
            ]
          },
          "execution_count": 4,
          "metadata": {},
          "output_type": "execute_result"
        }
      ],
      "source": [
        "df"
      ]
    },
    {
      "cell_type": "code",
      "execution_count": 5,
      "metadata": {
        "colab": {
          "base_uri": "https://localhost:8080/"
        },
        "id": "hIVAwmGFJ2UH",
        "outputId": "4d8b7f20-fbcf-4f69-c641-923772c704f5"
      },
      "outputs": [
        {
          "data": {
            "text/plain": [
              "array(['1', '0'], dtype=object)"
            ]
          },
          "execution_count": 5,
          "metadata": {},
          "output_type": "execute_result"
        }
      ],
      "source": [
        "df['Label'].unique()"
      ]
    },
    {
      "cell_type": "code",
      "execution_count": 6,
      "metadata": {
        "colab": {
          "base_uri": "https://localhost:8080/",
          "height": 550
        },
        "id": "JQlBZk9Qjz3y",
        "outputId": "d50beb1b-d76e-4801-a7b0-ed98b3e420f1"
      },
      "outputs": [
        {
          "name": "stdout",
          "output_type": "stream",
          "text": [
            "(80000, 2) (10000, 2) (10000, 2)\n"
          ]
        },
        {
          "name": "stderr",
          "output_type": "stream",
          "text": [
            "Some weights of BertForSequenceClassification were not initialized from the model checkpoint at bert-base-uncased and are newly initialized: ['classifier.bias', 'classifier.weight']\n",
            "You should probably TRAIN this model on a down-stream task to be able to use it for predictions and inference.\n",
            "C:\\Users\\khans\\AppData\\Local\\Packages\\PythonSoftwareFoundation.Python.3.10_qbz5n2kfra8p0\\LocalCache\\local-packages\\Python310\\site-packages\\transformers\\optimization.py:411: FutureWarning: This implementation of AdamW is deprecated and will be removed in a future version. Use the PyTorch implementation torch.optim.AdamW instead, or set `no_deprecation_warning=True` to disable this warning\n",
            "  warnings.warn(\n",
            "Epoch 1/3:   0%|          | 0/2500 [00:00<?, ?it/s]We strongly recommend passing in an `attention_mask` since your input_ids may be padded. See https://huggingface.co/docs/transformers/troubleshooting#incorrect-output-when-padding-tokens-arent-masked.\n",
            "Epoch 1/3: 100%|██████████| 2500/2500 [17:56:31<00:00, 25.84s/it]       \n"
          ]
        },
        {
          "name": "stdout",
          "output_type": "stream",
          "text": [
            "Epoch 1/3, Training Loss: 0.1725\n"
          ]
        },
        {
          "name": "stderr",
          "output_type": "stream",
          "text": [
            "Epoch 2/3: 100%|██████████| 2500/2500 [20:15:28<00:00, 29.17s/it]        \n"
          ]
        },
        {
          "name": "stdout",
          "output_type": "stream",
          "text": [
            "Epoch 2/3, Training Loss: 0.0941\n"
          ]
        },
        {
          "name": "stderr",
          "output_type": "stream",
          "text": [
            "Epoch 3/3: 100%|██████████| 2500/2500 [10:17:38<00:00, 14.82s/it]      \n"
          ]
        },
        {
          "name": "stdout",
          "output_type": "stream",
          "text": [
            "Epoch 3/3, Training Loss: 0.0525\n",
            "Validation Accuracy: 0.9411\n",
            "Validation Precision: 0.9417\n",
            "Validation Recall: 0.9411\n",
            "Validation F1 Score: 0.9410\n"
          ]
        },
        {
          "data": {
            "image/png": "[encoded data removed]",
            "text/plain": [
              "<Figure size 800x600 with 1 Axes>"
            ]
          },
          "metadata": {},
          "output_type": "display_data"
        }
      ],
      "source": [
        "import pandas as pd\n",
        "import numpy as np\n",
        "import torch\n",
        "from transformers import BertTokenizer, BertForSequenceClassification, AdamW\n",
        "from sklearn.model_selection import train_test_split\n",
        "from sklearn.preprocessing import LabelEncoder\n",
        "from sklearn.metrics import accuracy_score, precision_score, recall_score, f1_score\n",
        "from torch.utils.data import TensorDataset, DataLoader\n",
        "from tqdm import tqdm\n",
        "import matplotlib.pyplot as plt\n",
        "\n",
        "# Load and preprocess data\n",
        "train_df = pd.read_csv('train.csv')\n",
        "\n",
        "# Convert labels to numerical values\n",
        "label_encoder = LabelEncoder()\n",
        "train_df['Label'] = label_encoder.fit_transform(train_df['Label'])\n",
        "\n",
        "# Split the data into train, validation, and test sets\n",
        "train_df, test_df = train_test_split(train_df, test_size=0.2, random_state=42)\n",
        "val_df, test_df = train_test_split(test_df, test_size=0.5, random_state=42)\n",
        "\n",
        "print(train_df.shape, val_df.shape, test_df.shape)\n",
        "\n",
        "# Load BERT tokenizer and model\n",
        "tokenizer = BertTokenizer.from_pretrained('bert-base-uncased')\n",
        "model = BertForSequenceClassification.from_pretrained('bert-base-uncased', num_labels=len(label_encoder.classes_))\n",
        "\n",
        "# Create TensorDatasets for train, validation, and test\n",
        "train_dataset = TensorDataset(\n",
        "    torch.tensor(tokenizer.batch_encode_plus(train_df['Text'].tolist(), padding='max_length', truncation=True, max_length=128)['input_ids']),\n",
        "    torch.tensor(train_df['Label'].tolist())\n",
        ")\n",
        "\n",
        "val_dataset = TensorDataset(\n",
        "    torch.tensor(tokenizer.batch_encode_plus(val_df['Text'].tolist(), padding='max_length', truncation=True, max_length=128)['input_ids']),\n",
        "    torch.tensor(val_df['Label'].tolist())\n",
        ")\n",
        "\n",
        "test_dataset = TensorDataset(\n",
        "    torch.tensor(tokenizer.batch_encode_plus(test_df['Text'].tolist(), padding='max_length', truncation=True, max_length=128)['input_ids']),\n",
        "    torch.tensor(test_df['Label'].tolist())\n",
        ")\n",
        "\n",
        "# Define data loaders\n",
        "train_loader = DataLoader(train_dataset, batch_size=32, shuffle=True)\n",
        "val_loader = DataLoader(val_dataset, batch_size=64)\n",
        "test_loader = DataLoader(test_dataset, batch_size=64)\n",
        "\n",
        "# Set up training\n",
        "device = torch.device('cuda' if torch.cuda.is_available() else 'cpu')\n",
        "model.to(device)\n",
        "optimizer = AdamW(model.parameters(), lr=2e-5)\n",
        "criterion = torch.nn.CrossEntropyLoss()\n",
        "\n",
        "# Training loop\n",
        "num_epochs = 3\n",
        "for epoch in range(num_epochs):\n",
        "    model.train()\n",
        "    train_losses = []\n",
        "    for batch in tqdm(train_loader, desc=f'Epoch {epoch+1}/{num_epochs}'):\n",
        "        input_ids, labels = batch[0].to(device), batch[1].to(device)\n",
        "\n",
        "        optimizer.zero_grad()\n",
        "        outputs = model(input_ids=input_ids).logits\n",
        "        loss = criterion(outputs, labels)\n",
        "        loss.backward()\n",
        "        optimizer.step()\n",
        "\n",
        "        train_losses.append(loss.item())\n",
        "\n",
        "    print(f\"Epoch {epoch+1}/{num_epochs}, Training Loss: {np.mean(train_losses):.4f}\")\n",
        "\n",
        "# Validation\n",
        "model.eval()\n",
        "val_preds = []\n",
        "val_labels = []\n",
        "with torch.no_grad():\n",
        "    for batch in val_loader:\n",
        "        input_ids, labels = batch[0].to(device), batch[1].to(device)\n",
        "\n",
        "        outputs = model(input_ids=input_ids).logits\n",
        "        preds = torch.argmax(outputs, dim=1).cpu().numpy()\n",
        "        val_preds.extend(preds)\n",
        "        val_labels.extend(labels.cpu().numpy())\n",
        "\n",
        "val_accuracy = accuracy_score(val_labels, val_preds)\n",
        "val_precision = precision_score(val_labels, val_preds, average='weighted')\n",
        "val_recall = recall_score(val_labels, val_preds, average='weighted')\n",
        "val_f1 = f1_score(val_labels, val_preds, average='weighted')\n",
        "\n",
        "print(f\"Validation Accuracy: {val_accuracy:.4f}\")\n",
        "print(f\"Validation Precision: {val_precision:.4f}\")\n",
        "print(f\"Validation Recall: {val_recall:.4f}\")\n",
        "print(f\"Validation F1 Score: {val_f1:.4f}\")\n",
        "\n",
        "# Inference on test data\n",
        "test_preds = []\n",
        "with torch.no_grad():\n",
        "    for batch in test_loader:\n",
        "        input_ids, labels = batch[0].to(device), batch[1].to(device)\n",
        "\n",
        "        outputs = model(input_ids=input_ids).logits\n",
        "        preds = torch.argmax(outputs, dim=1).cpu().numpy()\n",
        "        test_preds.extend(preds)\n",
        "\n",
        "test_sentiments = label_encoder.inverse_transform(test_preds)\n",
        "\n",
        "# Plot distribution of predicted labels\n",
        "plt.figure(figsize=(8, 6))\n",
        "plt.hist(test_sentiments, bins=len(label_encoder.classes_), alpha=0.7, color='orange', label='Predicted')\n",
        "\n",
        "plt.xlabel('Label')\n",
        "plt.ylabel('Count')\n",
        "plt.title('Distribution of Predicted Labels')\n",
        "plt.xticks(np.arange(len(label_encoder.classes_)), label_encoder.classes_, rotation='vertical')\n",
        "plt.legend()\n",
        "plt.tight_layout()\n",
        "plt.show()\n"
      ]
    },
    {
      "cell_type": "code",
      "execution_count": 7,
      "metadata": {
        "id": "vC1Va3VQYIIL"
      },
      "outputs": [],
      "source": [
        "\n",
        "class SentimentAnalyzer:\n",
        "    def __init__(self, model_path='bert-base-uncased'):\n",
        "        self.model_path = model_path\n",
        "        self.tokenizer = None\n",
        "        self.model = None\n",
        "        self.label_encoder = None\n",
        "        self.device = torch.device('cuda' if torch.cuda.is_available() else 'cpu')\n",
        "\n",
        "    def initialize_model(self, train_df):\n",
        "        # Load BERT tokenizer and model\n",
        "        self.tokenizer = BertTokenizer.from_pretrained(self.model_path)\n",
        "        self.model = BertForSequenceClassification.from_pretrained(self.model_path, num_labels=len(self.label_encoder.classes_))\n",
        "\n",
        "        # Create TensorDataset for training data\n",
        "        train_dataset = TensorDataset(\n",
        "            torch.tensor(self.tokenizer.batch_encode_plus(train_df['Text'].tolist(), padding='max_length', truncation=True, max_length=128)['input_ids']),\n",
        "            torch.tensor(train_df['Label'].tolist())\n",
        "        )\n",
        "\n",
        "        # Define data loader for training\n",
        "        self.train_loader = DataLoader(train_dataset, batch_size=32, shuffle=True)\n",
        "\n",
        "        # Set up model and optimizer\n",
        "        self.model.to(self.device)\n",
        "        self.optimizer = AdamW(self.model.parameters(), lr=2e-5)\n",
        "        self.criterion = torch.nn.CrossEntropyLoss()\n",
        "\n",
        "    def train_model(self, num_epochs=3):\n",
        "        self.model.train()\n",
        "        for epoch in range(num_epochs):\n",
        "            train_losses = []\n",
        "            for batch in tqdm(self.train_loader, desc=f'Epoch {epoch + 1}/{num_epochs}'):\n",
        "                input_ids, labels = batch[0].to(self.device), batch[1].to(self.device)\n",
        "\n",
        "                self.optimizer.zero_grad()\n",
        "                outputs = self.model(input_ids=input_ids).logits\n",
        "                loss = self.criterion(outputs, labels)\n",
        "                loss.backward()\n",
        "                self.optimizer.step()\n",
        "\n",
        "                train_losses.append(loss.item())\n",
        "\n",
        "            print(f\"Epoch {epoch + 1}/{num_epochs}, Training Loss: {np.mean(train_losses):.4f}\")\n",
        "\n",
        "    def evaluate_model(self, val_loader):\n",
        "        self.model.eval()\n",
        "        val_preds = []\n",
        "        val_labels = []\n",
        "\n",
        "        with torch.no_grad():\n",
        "            for batch in val_loader:\n",
        "                input_ids, labels = batch[0].to(self.device), batch[1].to(self.device)\n",
        "\n",
        "                outputs = self.model(input_ids=input_ids).logits\n",
        "                preds = torch.argmax(outputs, dim=1).cpu().numpy()\n",
        "                val_preds.extend(preds)\n",
        "                val_labels.extend(labels.cpu().numpy())\n",
        "\n",
        "        val_accuracy = accuracy_score(val_labels, val_preds)\n",
        "        val_precision = precision_score(val_labels, val_preds, average='weighted')\n",
        "        val_recall = recall_score(val_labels, val_preds, average='weighted')\n",
        "        val_f1 = f1_score(val_labels, val_preds, average='weighted')\n",
        "\n",
        "        print(f\"Validation Accuracy: {val_accuracy:.4f}\")\n",
        "        print(f\"Validation Precision: {val_precision:.4f}\")\n",
        "        print(f\"Validation Recall: {val_recall:.4f}\")\n",
        "        print(f\"Validation F1 Score: {val_f1:.4f}\")\n",
        "\n",
        "    def predict_sentiment(self, review):\n",
        "        if self.tokenizer is None or self.model is None:\n",
        "            raise ValueError(\"Model not initialized. Call 'initialize_model' first.\")\n",
        "\n",
        "        # Tokenize and prepare input\n",
        "        input_text = [review]\n",
        "        input_ids = torch.tensor(self.tokenizer.batch_encode_plus(input_text, padding='max_length', truncation=True, max_length=128)['input_ids']).to(self.device)\n",
        "\n",
        "        # Inference\n",
        "        self.model.eval()\n",
        "        with torch.no_grad():\n",
        "            outputs = self.model(input_ids=input_ids).logits\n",
        "            pred = torch.argmax(outputs, dim=1).cpu().numpy()[0]\n",
        "\n",
        "        # Map prediction to sentiment label\n",
        "        sentiment_labels = {0: 'negative', 1: 'positive', 2: 'neither'}\n",
        "        predicted_sentiment = sentiment_labels[pred]\n",
        "\n",
        "        return predicted_sentiment\n",
        "\n"
      ]
    },
    {
      "cell_type": "code",
      "execution_count": 8,
      "metadata": {
        "id": "nYsnZjfbhWG6"
      },
      "outputs": [],
      "source": [
        "# # Create an instance of the SentimentAnalyzer class\n",
        "# analyzer = SentimentAnalyzer()\n",
        "\n",
        "# # Use the class for sentiment analysis\n",
        "# review = \"This is a positive review.\"\n",
        "# predicted_sentiment = analyzer.predict_sentiment(review)\n",
        "# print(f\"Review: {review}\")\n",
        "# print(f\"Predicted Sentiment: {predicted_sentiment}\")"
      ]
    },
    {
      "cell_type": "code",
      "execution_count": 9,
      "metadata": {
        "id": "cBdbK9Bzkd_g"
      },
      "outputs": [
        {
          "name": "stdout",
          "output_type": "stream",
          "text": [
            "Predicted Sentiment: 1\n"
          ]
        }
      ],
      "source": [
        "import torch\n",
        "\n",
        "def predict_sentiment(sentence, model, tokenizer, label_encoder, device):\n",
        "    # Tokenize the input sentence\n",
        "    inputs = tokenizer(sentence, padding='max_length', truncation=True, max_length=128, return_tensors='pt')\n",
        "\n",
        "    # Move the input tensors to the specified device (CPU or GPU)\n",
        "    inputs.to(device)\n",
        "\n",
        "    # Perform inference with the model\n",
        "    with torch.no_grad():\n",
        "        outputs = model(**inputs)\n",
        "\n",
        "    # Get the predicted class (positive or negative)\n",
        "    predicted_class = torch.argmax(outputs.logits, dim=1).item()\n",
        "\n",
        "    # Decode the predicted class using the label encoder\n",
        "    predicted_sentiment = label_encoder.classes_[predicted_class]\n",
        "\n",
        "    return predicted_sentiment\n",
        "\n",
        "# Example usage:\n",
        "sentence_to_predict = \"This movie is really good!\"\n",
        "predicted_sentiment = predict_sentiment(sentence_to_predict, model, tokenizer, label_encoder, device)\n",
        "print(f\"Predicted Sentiment: {predicted_sentiment}\")\n"
      ]
    },
    {
      "cell_type": "code",
      "execution_count": 10,
      "metadata": {
        "id": "lk5w_Fbbl28t"
      },
      "outputs": [
        {
          "name": "stdout",
          "output_type": "stream",
          "text": [
            "Sentence: 'I dont like the product'\n",
            "Predicted Sentiment: 0\n",
            "\n",
            "Sentence: 'I love the product'\n",
            "Predicted Sentiment: 1\n",
            "\n",
            "Sentence: 'I like the product'\n",
            "Predicted Sentiment: 1\n",
            "\n",
            "Sentence: 'I loved the movie, it was fantastic!'\n",
            "Predicted Sentiment: 1\n",
            "\n",
            "Sentence: 'This restaurant has terrible food and service.'\n",
            "Predicted Sentiment: 0\n",
            "\n",
            "Sentence: 'The weather today is absolutely beautiful.'\n",
            "Predicted Sentiment: 1\n",
            "\n",
            "Sentence: 'The customer support was outstanding.'\n",
            "Predicted Sentiment: 1\n",
            "\n",
            "Sentence: 'The book was quite disappointing.'\n",
            "Predicted Sentiment: 0\n",
            "\n",
            "Sentence: 'I had a great time at the party last night.'\n",
            "Predicted Sentiment: 1\n",
            "\n",
            "Sentence: 'The product is a waste of money.'\n",
            "Predicted Sentiment: 0\n",
            "\n",
            "Sentence: 'The concert was amazing, I had so much fun!'\n",
            "Predicted Sentiment: 1\n",
            "\n"
          ]
        }
      ],
      "source": [
        "# Example sentences to predict sentiment\n",
        "sentences_to_predict = [\n",
        "    \"I dont like the product\",\n",
        "    \"I love the product\",\n",
        "    \"I like the product\",\n",
        "    \"I loved the movie, it was fantastic!\",\n",
        "    \"This restaurant has terrible food and service.\",\n",
        "    \"The weather today is absolutely beautiful.\",\n",
        "    \"The customer support was outstanding.\",\n",
        "    \"The book was quite disappointing.\",\n",
        "    \"I had a great time at the party last night.\",\n",
        "    \"The product is a waste of money.\",\n",
        "    \"The concert was amazing, I had so much fun!\",\n",
        "]\n",
        "\n",
        "for sentence in sentences_to_predict:\n",
        "    predicted_sentiment = predict_sentiment(sentence, model, tokenizer, label_encoder, device)\n",
        "    print(f\"Sentence: '{sentence}'\\nPredicted Sentiment: {predicted_sentiment}\\n\")\n"
      ]
    },
    {
      "cell_type": "code",
      "execution_count": 11,
      "metadata": {
        "id": "W7lX1JH6mB3L"
      },
      "outputs": [
        {
          "name": "stdout",
          "output_type": "stream",
          "text": [
            "(80000, 2) (10000, 2) (10000, 2)\n"
          ]
        },
        {
          "name": "stderr",
          "output_type": "stream",
          "text": [
            "Downloading (…)solve/main/vocab.txt: 100%|██████████| 996k/996k [00:02<00:00, 468kB/s]\n",
            "C:\\Users\\khans\\AppData\\Local\\Packages\\PythonSoftwareFoundation.Python.3.10_qbz5n2kfra8p0\\LocalCache\\local-packages\\Python310\\site-packages\\huggingface_hub\\file_download.py:137: UserWarning: `huggingface_hub` cache-system uses symlinks by default to efficiently store duplicated files but your machine does not support them in C:\\Users\\khans\\.cache\\huggingface\\hub. Caching files will still work but in a degraded version that might require more space on your disk. This warning can be disabled by setting the `HF_HUB_DISABLE_SYMLINKS_WARNING` environment variable. For more details, see https://huggingface.co/docs/huggingface_hub/how-to-cache#limitations.\n",
            "To support symlinks on Windows, you either need to activate Developer Mode or to run Python as an administrator. In order to see activate developer mode, see this article: https://docs.microsoft.com/en-us/windows/apps/get-started/enable-your-device-for-development\n",
            "  warnings.warn(message)\n",
            "Downloading (…)okenizer_config.json: 100%|██████████| 29.0/29.0 [00:00<?, ?B/s]\n",
            "Downloading (…)lve/main/config.json: 100%|██████████| 625/625 [00:00<?, ?B/s] \n",
            "Downloading model.safetensors: 100%|██████████| 714M/714M [01:46<00:00, 6.68MB/s] \n",
            "Some weights of BertForSequenceClassification were not initialized from the model checkpoint at bert-base-multilingual-cased and are newly initialized: ['classifier.bias', 'classifier.weight']\n",
            "You should probably TRAIN this model on a down-stream task to be able to use it for predictions and inference.\n",
            "C:\\Users\\khans\\AppData\\Local\\Packages\\PythonSoftwareFoundation.Python.3.10_qbz5n2kfra8p0\\LocalCache\\local-packages\\Python310\\site-packages\\transformers\\optimization.py:411: FutureWarning: This implementation of AdamW is deprecated and will be removed in a future version. Use the PyTorch implementation torch.optim.AdamW instead, or set `no_deprecation_warning=True` to disable this warning\n",
            "  warnings.warn(\n",
            "Epoch 1/3: 100%|██████████| 2500/2500 [22:31:20<00:00, 32.43s/it]       \n"
          ]
        },
        {
          "name": "stdout",
          "output_type": "stream",
          "text": [
            "Epoch 1/3, Training Loss: 0.2336\n"
          ]
        },
        {
          "name": "stderr",
          "output_type": "stream",
          "text": [
            "Epoch 2/3: 100%|██████████| 2500/2500 [17:55:20<00:00, 25.81s/it]       \n"
          ]
        },
        {
          "name": "stdout",
          "output_type": "stream",
          "text": [
            "Epoch 2/3, Training Loss: 0.1440\n"
          ]
        },
        {
          "name": "stderr",
          "output_type": "stream",
          "text": [
            "Epoch 3/3: 100%|██████████| 2500/2500 [8:06:04<00:00, 11.67s/it]  \n"
          ]
        },
        {
          "name": "stdout",
          "output_type": "stream",
          "text": [
            "Epoch 3/3, Training Loss: 0.0993\n",
            "Validation Accuracy: 0.9254\n",
            "Validation Precision: 0.9254\n",
            "Validation Recall: 0.9254\n",
            "Validation F1 Score: 0.9254\n"
          ]
        },
        {
          "data": {
            "image/png": "[encoded data removed]",
            "text/plain": [
              "<Figure size 800x600 with 1 Axes>"
            ]
          },
          "metadata": {},
          "output_type": "display_data"
        }
      ],
      "source": [
        "import pandas as pd\n",
        "import numpy as np\n",
        "import torch\n",
        "from transformers import BertTokenizer, BertForSequenceClassification, AdamW\n",
        "from sklearn.model_selection import train_test_split\n",
        "from sklearn.preprocessing import LabelEncoder\n",
        "from sklearn.metrics import accuracy_score, precision_score, recall_score, f1_score\n",
        "from torch.utils.data import TensorDataset, DataLoader\n",
        "from tqdm import tqdm\n",
        "import matplotlib.pyplot as plt\n",
        "\n",
        "# Load and preprocess data\n",
        "train_df = pd.read_csv('train.csv')\n",
        "\n",
        "# Convert labels to numerical values\n",
        "label_encoder = LabelEncoder()\n",
        "train_df['Label'] = label_encoder.fit_transform(train_df['Label'])\n",
        "\n",
        "# Split the data into train, validation, and test sets\n",
        "train_df, test_df = train_test_split(train_df, test_size=0.2, random_state=42)\n",
        "val_df, test_df = train_test_split(test_df, test_size=0.5, random_state=42)\n",
        "\n",
        "print(train_df.shape, val_df.shape, test_df.shape)\n",
        "\n",
        "# Load mBERT tokenizer and model (multilingual BERT)\n",
        "tokenizer = BertTokenizer.from_pretrained('bert-base-multilingual-cased')\n",
        "model = BertForSequenceClassification.from_pretrained('bert-base-multilingual-cased', num_labels=len(label_encoder.classes_))\n",
        "\n",
        "# Create TensorDatasets for train, validation, and test\n",
        "train_dataset = TensorDataset(\n",
        "    torch.tensor(tokenizer.batch_encode_plus(train_df['Text'].tolist(), padding='max_length', truncation=True, max_length=128)['input_ids']),\n",
        "    torch.tensor(train_df['Label'].tolist())\n",
        ")\n",
        "\n",
        "val_dataset = TensorDataset(\n",
        "    torch.tensor(tokenizer.batch_encode_plus(val_df['Text'].tolist(), padding='max_length', truncation=True, max_length=128)['input_ids']),\n",
        "    torch.tensor(val_df['Label'].tolist())\n",
        ")\n",
        "\n",
        "test_dataset = TensorDataset(\n",
        "    torch.tensor(tokenizer.batch_encode_plus(test_df['Text'].tolist(), padding='max_length', truncation=True, max_length=128)['input_ids']),\n",
        "    torch.tensor(test_df['Label'].tolist())\n",
        ")\n",
        "\n",
        "# Define data loaders\n",
        "train_loader = DataLoader(train_dataset, batch_size=32, shuffle=True)\n",
        "val_loader = DataLoader(val_dataset, batch_size=64)\n",
        "test_loader = DataLoader(test_dataset, batch_size=64)\n",
        "\n",
        "# Set up training\n",
        "device = torch.device('cuda' if torch.cuda.is_available() else 'cpu')\n",
        "model.to(device)\n",
        "optimizer = AdamW(model.parameters(), lr=2e-5)\n",
        "criterion = torch.nn.CrossEntropyLoss()\n",
        "\n",
        "# Training loop\n",
        "num_epochs = 3\n",
        "for epoch in range(num_epochs):\n",
        "    model.train()\n",
        "    train_losses = []\n",
        "    for batch in tqdm(train_loader, desc=f'Epoch {epoch+1}/{num_epochs}'):\n",
        "        input_ids, labels = batch[0].to(device), batch[1].to(device)\n",
        "\n",
        "        optimizer.zero_grad()\n",
        "        outputs = model(input_ids=input_ids).logits\n",
        "        loss = criterion(outputs, labels)\n",
        "        loss.backward()\n",
        "        optimizer.step()\n",
        "\n",
        "        train_losses.append(loss.item())\n",
        "\n",
        "    print(f\"Epoch {epoch+1}/{num_epochs}, Training Loss: {np.mean(train_losses):.4f}\")\n",
        "\n",
        "# Validation\n",
        "model.eval()\n",
        "val_preds = []\n",
        "val_labels = []\n",
        "with torch.no_grad():\n",
        "    for batch in val_loader:\n",
        "        input_ids, labels = batch[0].to(device), batch[1].to(device)\n",
        "\n",
        "        outputs = model(input_ids=input_ids).logits\n",
        "        preds = torch.argmax(outputs, dim=1).cpu().numpy()\n",
        "        val_preds.extend(preds)\n",
        "        val_labels.extend(labels.cpu().numpy())\n",
        "\n",
        "val_accuracy = accuracy_score(val_labels, val_preds)\n",
        "val_precision = precision_score(val_labels, val_preds, average='weighted')\n",
        "val_recall = recall_score(val_labels, val_preds, average='weighted')\n",
        "val_f1 = f1_score(val_labels, val_preds, average='weighted')\n",
        "\n",
        "print(f\"Validation Accuracy: {val_accuracy:.4f}\")\n",
        "print(f\"Validation Precision: {val_precision:.4f}\")\n",
        "print(f\"Validation Recall: {val_recall:.4f}\")\n",
        "print(f\"Validation F1 Score: {val_f1:.4f}\")\n",
        "\n",
        "# Inference on test data\n",
        "test_preds = []\n",
        "with torch.no_grad():\n",
        "    for batch in test_loader:\n",
        "        input_ids, labels = batch[0].to(device), batch[1].to(device)\n",
        "\n",
        "        outputs = model(input_ids=input_ids).logits\n",
        "        preds = torch.argmax(outputs, dim=1).cpu().numpy()\n",
        "        test_preds.extend(preds)\n",
        "\n",
        "test_sentiments = label_encoder.inverse_transform(test_preds)\n",
        "\n",
        "# Plot distribution of predicted labels\n",
        "plt.figure(figsize=(8, 6))\n",
        "plt.hist(test_sentiments, bins=len(label_encoder.classes_), alpha=0.7, color='orange', label='Predicted')\n",
        "\n",
        "plt.xlabel('Label')\n",
        "plt.ylabel('Count')\n",
        "plt.title('Distribution of Predicted Labels')\n",
        "plt.xticks(np.arange(len(label_encoder.classes_)), label_encoder.classes_, rotation='vertical')\n",
        "plt.legend()\n",
        "plt.tight_layout()\n",
        "plt.show()\n"
      ]
    },
    {
      "cell_type": "code",
      "execution_count": 12,
      "metadata": {
        "id": "WXVJonrpqTBv"
      },
      "outputs": [
        {
          "name": "stderr",
          "output_type": "stream",
          "text": [
            "Some weights of BertForSequenceClassification were not initialized from the model checkpoint at bert-base-multilingual-cased and are newly initialized: ['classifier.bias', 'classifier.weight']\n",
            "You should probably TRAIN this model on a down-stream task to be able to use it for predictions and inference.\n"
          ]
        },
        {
          "name": "stdout",
          "output_type": "stream",
          "text": [
            "Review: This product is excellent!\n",
            "Predicted Sentiment: Positive\n",
            "\n",
            "Review: Je n'aime pas du tout ce produit.\n",
            "Predicted Sentiment: Positive\n",
            "\n",
            "Review: Este producto es muy bueno.\n",
            "Predicted Sentiment: Positive\n",
            "\n"
          ]
        }
      ],
      "source": [
        "import torch\n",
        "from transformers import BertTokenizer, BertForSequenceClassification\n",
        "import pandas as pd\n",
        "import numpy as np\n",
        "\n",
        "# Load the trained model and tokenizer\n",
        "model = BertForSequenceClassification.from_pretrained('bert-base-multilingual-cased', num_labels=2)  # Load your trained model here\n",
        "tokenizer = BertTokenizer.from_pretrained('bert-base-multilingual-cased')\n",
        "\n",
        "# Function to predict sentiment for a list of reviews\n",
        "def predict_sentiment(reviews, model, tokenizer):\n",
        "    # Tokenize the reviews\n",
        "    tokenized_reviews = tokenizer(reviews, padding=True, truncation=True, return_tensors='pt', max_length=128)\n",
        "\n",
        "    # Make predictions\n",
        "    with torch.no_grad():\n",
        "        outputs = model(**tokenized_reviews)\n",
        "        logits = outputs.logits\n",
        "        predicted_labels = torch.argmax(logits, dim=1).cpu().numpy()\n",
        "\n",
        "    return predicted_labels\n",
        "\n",
        "# Example usage\n",
        "if __name__ == '__main__':\n",
        "    reviews = [\n",
        "        \"This product is excellent!\",\n",
        "        \"Je n'aime pas du tout ce produit.\",\n",
        "        \"Este producto es muy bueno.\"\n",
        "    ]\n",
        "\n",
        "    # Map the predicted labels back to sentiment categories\n",
        "    label_map = {0: 'Negative', 1: 'Positive'}  # Adjust as per your label encoding\n",
        "    predicted_labels = predict_sentiment(reviews, model, tokenizer)\n",
        "    predicted_sentiments = [label_map[label] for label in predicted_labels]\n",
        "\n",
        "    for review, sentiment in zip(reviews, predicted_sentiments):\n",
        "        print(f\"Review: {review}\\nPredicted Sentiment: {sentiment}\\n\")\n"
      ]
    },
    {
      "cell_type": "code",
      "execution_count": null,
      "metadata": {
        "id": "JsFpO-QJrMhP"
      },
      "outputs": [],
      "source": []
    },
    {
      "cell_type": "code",
      "execution_count": null,
      "metadata": {
        "id": "x2EE-eNgI_sE"
      },
      "outputs": [],
      "source": []
    }
  ],
  "metadata": {
    "accelerator": "GPU",
    "colab": {
      "gpuType": "T4",
      "provenance": []
    },
    "kernelspec": {
      "display_name": "Python 3",
      "name": "python3"
    },
    "language_info": {
      "codemirror_mode": {
        "name": "ipython",
        "version": 3
      },
      "file_extension": ".py",
      "mimetype": "text/x-python",
      "name": "python",
      "nbconvert_exporter": "python",
      "pygments_lexer": "ipython3",
      "version": "3.10.11"
    }
  },
  "nbformat": 4,
  "nbformat_minor": 0
}
